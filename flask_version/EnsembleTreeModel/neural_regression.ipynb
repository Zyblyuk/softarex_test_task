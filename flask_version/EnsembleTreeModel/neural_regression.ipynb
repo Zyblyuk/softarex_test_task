{
 "cells": [
  {
   "cell_type": "code",
   "execution_count": 257,
   "metadata": {
    "id": "H6H2zX6VGCdd",
    "colab": {
     "base_uri": "https://localhost:8080/"
    },
    "outputId": "21a863b2-83b1-44f1-ecae-1462dcfee20e"
   },
   "outputs": [
    {
     "output_type": "stream",
     "name": "stdout",
     "text": [
      "Drive already mounted at /content/drive; to attempt to forcibly remount, call drive.mount(\"/content/drive\", force_remount=True).\n"
     ]
    }
   ],
   "source": [
    "import pandas as pd\n",
    "import numpy as np\n",
    "\n",
    "from sklearn.preprocessing import MinMaxScaler\n",
    "from sklearn.model_selection import train_test_split\n",
    "from sklearn.metrics import mean_squared_error\n",
    "\n",
    "\n",
    "import seaborn as sn\n",
    "import matplotlib.pyplot as plt\n",
    "\n",
    "import torch\n",
    "\n",
    "from datetime import date\n",
    "from datetime import datetime\n"
   ]
  },
  {
   "cell_type": "code",
   "source": [
    "data = pd.read_csv(f'csv/train.csv')\n",
    "data.head()"
   ],
   "metadata": {
    "colab": {
     "base_uri": "https://localhost:8080/",
     "height": 288
    },
    "id": "lTB5HzqzW9Ne",
    "outputId": "c5691b7a-fb26-4f7b-f421-ad5873709f0f"
   },
   "execution_count": 258,
   "outputs": [
    {
     "output_type": "execute_result",
     "data": {
      "text/plain": [
       "   id  Open Date  City Group        P1        P2        P6        P7  \\\n",
       "0   0   0.819966         1.0  0.272727  0.615385  0.111111  0.444444   \n",
       "1   1   0.335651         1.0  0.272727  0.615385  0.111111  0.444444   \n",
       "2   2   0.049760         0.0  0.090909  0.461538  0.222222  0.444444   \n",
       "3   3   0.111729         0.0  0.454545  0.538462  0.333333  1.000000   \n",
       "4   4   0.266110         0.0  0.181818  0.461538  0.111111  0.444444   \n",
       "\n",
       "        P11       P17       P21   P22       P28    revenue  \n",
       "0  0.222222  0.133333  0.000000  0.50  0.086957  5653753.0  \n",
       "1  0.000000  0.000000  0.000000  0.50  0.173913  6923131.0  \n",
       "2  0.111111  0.000000  0.000000  0.00  0.000000  2055379.0  \n",
       "3  0.777778  0.200000  0.357143  0.00  0.130435  2675511.0  \n",
       "4  0.111111  0.066667  0.000000  0.25  0.000000  4316715.0  "
      ],
      "text/html": [
       "\n",
       "  <div id=\"df-fcfcbc0d-1c4c-4ad5-b29d-31f1fc219980\">\n",
       "    <div class=\"colab-df-container\">\n",
       "      <div>\n",
       "<style scoped>\n",
       "    .dataframe tbody tr th:only-of-type {\n",
       "        vertical-align: middle;\n",
       "    }\n",
       "\n",
       "    .dataframe tbody tr th {\n",
       "        vertical-align: top;\n",
       "    }\n",
       "\n",
       "    .dataframe thead th {\n",
       "        text-align: right;\n",
       "    }\n",
       "</style>\n",
       "<table border=\"1\" class=\"dataframe\">\n",
       "  <thead>\n",
       "    <tr style=\"text-align: right;\">\n",
       "      <th></th>\n",
       "      <th>id</th>\n",
       "      <th>Open Date</th>\n",
       "      <th>City Group</th>\n",
       "      <th>P1</th>\n",
       "      <th>P2</th>\n",
       "      <th>P6</th>\n",
       "      <th>P7</th>\n",
       "      <th>P11</th>\n",
       "      <th>P17</th>\n",
       "      <th>P21</th>\n",
       "      <th>P22</th>\n",
       "      <th>P28</th>\n",
       "      <th>revenue</th>\n",
       "    </tr>\n",
       "  </thead>\n",
       "  <tbody>\n",
       "    <tr>\n",
       "      <th>0</th>\n",
       "      <td>0</td>\n",
       "      <td>0.819966</td>\n",
       "      <td>1.0</td>\n",
       "      <td>0.272727</td>\n",
       "      <td>0.615385</td>\n",
       "      <td>0.111111</td>\n",
       "      <td>0.444444</td>\n",
       "      <td>0.222222</td>\n",
       "      <td>0.133333</td>\n",
       "      <td>0.000000</td>\n",
       "      <td>0.50</td>\n",
       "      <td>0.086957</td>\n",
       "      <td>5653753.0</td>\n",
       "    </tr>\n",
       "    <tr>\n",
       "      <th>1</th>\n",
       "      <td>1</td>\n",
       "      <td>0.335651</td>\n",
       "      <td>1.0</td>\n",
       "      <td>0.272727</td>\n",
       "      <td>0.615385</td>\n",
       "      <td>0.111111</td>\n",
       "      <td>0.444444</td>\n",
       "      <td>0.000000</td>\n",
       "      <td>0.000000</td>\n",
       "      <td>0.000000</td>\n",
       "      <td>0.50</td>\n",
       "      <td>0.173913</td>\n",
       "      <td>6923131.0</td>\n",
       "    </tr>\n",
       "    <tr>\n",
       "      <th>2</th>\n",
       "      <td>2</td>\n",
       "      <td>0.049760</td>\n",
       "      <td>0.0</td>\n",
       "      <td>0.090909</td>\n",
       "      <td>0.461538</td>\n",
       "      <td>0.222222</td>\n",
       "      <td>0.444444</td>\n",
       "      <td>0.111111</td>\n",
       "      <td>0.000000</td>\n",
       "      <td>0.000000</td>\n",
       "      <td>0.00</td>\n",
       "      <td>0.000000</td>\n",
       "      <td>2055379.0</td>\n",
       "    </tr>\n",
       "    <tr>\n",
       "      <th>3</th>\n",
       "      <td>3</td>\n",
       "      <td>0.111729</td>\n",
       "      <td>0.0</td>\n",
       "      <td>0.454545</td>\n",
       "      <td>0.538462</td>\n",
       "      <td>0.333333</td>\n",
       "      <td>1.000000</td>\n",
       "      <td>0.777778</td>\n",
       "      <td>0.200000</td>\n",
       "      <td>0.357143</td>\n",
       "      <td>0.00</td>\n",
       "      <td>0.130435</td>\n",
       "      <td>2675511.0</td>\n",
       "    </tr>\n",
       "    <tr>\n",
       "      <th>4</th>\n",
       "      <td>4</td>\n",
       "      <td>0.266110</td>\n",
       "      <td>0.0</td>\n",
       "      <td>0.181818</td>\n",
       "      <td>0.461538</td>\n",
       "      <td>0.111111</td>\n",
       "      <td>0.444444</td>\n",
       "      <td>0.111111</td>\n",
       "      <td>0.066667</td>\n",
       "      <td>0.000000</td>\n",
       "      <td>0.25</td>\n",
       "      <td>0.000000</td>\n",
       "      <td>4316715.0</td>\n",
       "    </tr>\n",
       "  </tbody>\n",
       "</table>\n",
       "</div>\n",
       "      <button class=\"colab-df-convert\" onclick=\"convertToInteractive('df-fcfcbc0d-1c4c-4ad5-b29d-31f1fc219980')\"\n",
       "              title=\"Convert this dataframe to an interactive table.\"\n",
       "              style=\"display:none;\">\n",
       "        \n",
       "  <svg xmlns=\"http://www.w3.org/2000/svg\" height=\"24px\"viewBox=\"0 0 24 24\"\n",
       "       width=\"24px\">\n",
       "    <path d=\"M0 0h24v24H0V0z\" fill=\"none\"/>\n",
       "    <path d=\"M18.56 5.44l.94 2.06.94-2.06 2.06-.94-2.06-.94-.94-2.06-.94 2.06-2.06.94zm-11 1L8.5 8.5l.94-2.06 2.06-.94-2.06-.94L8.5 2.5l-.94 2.06-2.06.94zm10 10l.94 2.06.94-2.06 2.06-.94-2.06-.94-.94-2.06-.94 2.06-2.06.94z\"/><path d=\"M17.41 7.96l-1.37-1.37c-.4-.4-.92-.59-1.43-.59-.52 0-1.04.2-1.43.59L10.3 9.45l-7.72 7.72c-.78.78-.78 2.05 0 2.83L4 21.41c.39.39.9.59 1.41.59.51 0 1.02-.2 1.41-.59l7.78-7.78 2.81-2.81c.8-.78.8-2.07 0-2.86zM5.41 20L4 18.59l7.72-7.72 1.47 1.35L5.41 20z\"/>\n",
       "  </svg>\n",
       "      </button>\n",
       "      \n",
       "  <style>\n",
       "    .colab-df-container {\n",
       "      display:flex;\n",
       "      flex-wrap:wrap;\n",
       "      gap: 12px;\n",
       "    }\n",
       "\n",
       "    .colab-df-convert {\n",
       "      background-color: #E8F0FE;\n",
       "      border: none;\n",
       "      border-radius: 50%;\n",
       "      cursor: pointer;\n",
       "      display: none;\n",
       "      fill: #1967D2;\n",
       "      height: 32px;\n",
       "      padding: 0 0 0 0;\n",
       "      width: 32px;\n",
       "    }\n",
       "\n",
       "    .colab-df-convert:hover {\n",
       "      background-color: #E2EBFA;\n",
       "      box-shadow: 0px 1px 2px rgba(60, 64, 67, 0.3), 0px 1px 3px 1px rgba(60, 64, 67, 0.15);\n",
       "      fill: #174EA6;\n",
       "    }\n",
       "\n",
       "    [theme=dark] .colab-df-convert {\n",
       "      background-color: #3B4455;\n",
       "      fill: #D2E3FC;\n",
       "    }\n",
       "\n",
       "    [theme=dark] .colab-df-convert:hover {\n",
       "      background-color: #434B5C;\n",
       "      box-shadow: 0px 1px 3px 1px rgba(0, 0, 0, 0.15);\n",
       "      filter: drop-shadow(0px 1px 2px rgba(0, 0, 0, 0.3));\n",
       "      fill: #FFFFFF;\n",
       "    }\n",
       "  </style>\n",
       "\n",
       "      <script>\n",
       "        const buttonEl =\n",
       "          document.querySelector('#df-fcfcbc0d-1c4c-4ad5-b29d-31f1fc219980 button.colab-df-convert');\n",
       "        buttonEl.style.display =\n",
       "          google.colab.kernel.accessAllowed ? 'block' : 'none';\n",
       "\n",
       "        async function convertToInteractive(key) {\n",
       "          const element = document.querySelector('#df-fcfcbc0d-1c4c-4ad5-b29d-31f1fc219980');\n",
       "          const dataTable =\n",
       "            await google.colab.kernel.invokeFunction('convertToInteractive',\n",
       "                                                     [key], {});\n",
       "          if (!dataTable) return;\n",
       "\n",
       "          const docLinkHtml = 'Like what you see? Visit the ' +\n",
       "            '<a target=\"_blank\" href=https://colab.research.google.com/notebooks/data_table.ipynb>data table notebook</a>'\n",
       "            + ' to learn more about interactive tables.';\n",
       "          element.innerHTML = '';\n",
       "          dataTable['output_type'] = 'display_data';\n",
       "          await google.colab.output.renderOutput(dataTable, element);\n",
       "          const docLink = document.createElement('div');\n",
       "          docLink.innerHTML = docLinkHtml;\n",
       "          element.appendChild(docLink);\n",
       "        }\n",
       "      </script>\n",
       "    </div>\n",
       "  </div>\n",
       "  "
      ]
     },
     "metadata": {},
     "execution_count": 258
    }
   ]
  },
  {
   "cell_type": "code",
   "source": [
    "columns_len = data.columns.shape[0]\n",
    "\n",
    "X = data.iloc[:, 0:columns_len - 1]\n",
    "Y = data.iloc[:, columns_len - 1]"
   ],
   "metadata": {
    "id": "PDR5s8M-X5_o"
   },
   "execution_count": 259,
   "outputs": []
  },
  {
   "cell_type": "code",
   "source": [
    "X_train, X_test, y_train, y_test = train_test_split(X, Y, test_size=0.2, random_state=8)\n",
    "\n",
    "X_test.reset_index(inplace=True)\n",
    "y_test = pd.DataFrame(y_test.values)\n",
    "\n",
    "X_test.drop('index', axis=1, inplace=True)"
   ],
   "metadata": {
    "id": "cee47Qe-X_2S"
   },
   "execution_count": 260,
   "outputs": []
  },
  {
   "cell_type": "code",
   "source": [
    "X_train_torch = torch.from_numpy(X_train.values).float()\n",
    "X_test_torch = torch.from_numpy(X_test.values).float()\n",
    "y_train_torch = torch.from_numpy(y_train.values).float()\n",
    "y_test_torch = torch.from_numpy(y_test.values).float()"
   ],
   "metadata": {
    "id": "N7GAm8jEYTRX"
   },
   "execution_count": 261,
   "outputs": []
  },
  {
   "cell_type": "code",
   "source": [
    "model = torch.nn.Sequential(\n",
    "        torch.nn.Linear(X_train_torch.shape[1], 100),\n",
    "        torch.nn.Dropout(p=0.1),\n",
    "        torch.nn.ReLU(),\n",
    "\n",
    "        torch.nn.Linear(100, 200),\n",
    "        torch.nn.Dropout(p=0.3),\n",
    "        torch.nn.ReLU(),\n",
    "\n",
    "        torch.nn.Linear(200, 150),\n",
    "        torch.nn.Dropout(p=0.5),\n",
    "        torch.nn.ReLU(),\n",
    "\n",
    "        torch.nn.Linear(150, 50),\n",
    "        torch.nn.Dropout(p=0.3),\n",
    "        torch.nn.ReLU(),\n",
    "\n",
    "        torch.nn.Linear(50, 1),\n",
    ")\n",
    "\n",
    "if torch.cuda.is_available():\n",
    "    model = model.cuda()\n",
    "    X_train_torch, y_train_torch = X_train_torch.cuda(), y_train_torch.cuda()\n",
    "    X_test_torch, y_test_torch = X_test_torch.cuda(), y_test_torch.cuda()\n",
    "\n",
    "criterion = torch.nn.MSELoss(reduction='sum')\n",
    "\n",
    "optimizer = torch.optim.Adam(model.parameters(), lr=1e-4)\n",
    "\n",
    "\n",
    "loss_list = []\n",
    "for epoch in range(1250):\n",
    "    output = model(X_train_torch)\n",
    "\n",
    "    loss = criterion(output,\n",
    "                     torch.reshape(y_train_torch,(X_train_torch.shape[0], 1)))\n",
    "    loss_list.append(loss.cpu().detach().numpy() )\n",
    "\n",
    "    optimizer.zero_grad()\n",
    "    loss.backward()\n",
    "    optimizer.step()"
   ],
   "metadata": {
    "id": "ZIJa4gmaY4VG"
   },
   "execution_count": 322,
   "outputs": []
  },
  {
   "cell_type": "code",
   "source": [
    "plt.plot(loss_list)\n",
    "plt.show()"
   ],
   "metadata": {
    "colab": {
     "base_uri": "https://localhost:8080/",
     "height": 276
    },
    "id": "arWS5TtwwlJb",
    "outputId": "53fc3fa4-9926-4769-8c14-43208c522064"
   },
   "execution_count": 323,
   "outputs": [
    {
     "output_type": "display_data",
     "data": {
      "text/plain": [
       "<Figure size 432x288 with 1 Axes>"
      ],
      "image/png": "[encoded data removed]"
     },
     "metadata": {
      "needs_background": "light"
     }
    }
   ]
  },
  {
   "cell_type": "code",
   "source": [
    "y_predict_test = model(X_test_torch).cpu().detach().numpy()\n",
    "y = y_test_torch.cpu().detach().numpy()\n",
    "\n",
    "mse = mean_squared_error(y, y_predict_test)\n",
    "se = np.square(np.max(np.abs(y - y_predict_test)))\n",
    "\n",
    "print(f'Torch Neural Regression:\\n'\n",
    "      f'RMSE:\\t{np.sqrt(mse)}\\n'\n",
    "      f'Normalized MSE:\\t{mse/se}')"
   ],
   "metadata": {
    "colab": {
     "base_uri": "https://localhost:8080/"
    },
    "id": "HH7TZRXd48bD",
    "outputId": "83113a88-796d-4e81-847f-45e147863162"
   },
   "execution_count": 338,
   "outputs": [
    {
     "output_type": "stream",
     "name": "stdout",
     "text": [
      "Torch Тeural Кegression:\n",
      "RMSE:\t2746375.0\n",
      "Normalized MSE:\t0.13852572441101074\n"
     ]
    }
   ]
  },
  {
   "cell_type": "code",
   "source": [
    "plt.plot(y, \"red\", y_predict_test, \"blue\")\n",
    "plt.show()"
   ],
   "metadata": {
    "colab": {
     "base_uri": "https://localhost:8080/",
     "height": 276
    },
    "id": "_KIC_h64Vh2H",
    "outputId": "52766a8e-7f6e-4d4a-8cca-363bc7762a21"
   },
   "execution_count": 339,
   "outputs": [
    {
     "output_type": "display_data",
     "data": {
      "text/plain": [
       "<Figure size 432x288 with 1 Axes>"
      ],
      "image/png": "[encoded data removed]"
     },
     "metadata": {
      "needs_background": "light"
     }
    }
   ]
  }
 ],
 "metadata": {
  "accelerator": "GPU",
  "colab": {
   "provenance": []
  },
  "gpuClass": "standard",
  "kernelspec": {
   "display_name": "Python 3",
   "name": "python3"
  },
  "language_info": {
   "name": "python"
  }
 },
 "nbformat": 4,
 "nbformat_minor": 0
}
